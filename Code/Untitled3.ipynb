{
 "cells": [
  {
   "cell_type": "code",
   "execution_count": 9,
   "metadata": {
    "collapsed": false
   },
   "outputs": [
    {
     "name": "stdout",
     "output_type": "stream",
     "text": [
      "22\n"
     ]
    },
    {
     "data": {
      "text/plain": [
       "{'Audi',\n",
       " 'BMW',\n",
       " 'Chevrolet',\n",
       " 'Datsun',\n",
       " 'Fiat',\n",
       " 'Force Motors',\n",
       " 'Ford',\n",
       " 'Honda',\n",
       " 'Hyundai',\n",
       " 'Jaguar',\n",
       " 'Land Rover',\n",
       " 'Mahindra',\n",
       " 'Maruti Suzuki',\n",
       " 'Mercedes-Benz',\n",
       " 'Mitsubishi',\n",
       " 'Nissan',\n",
       " 'Renault',\n",
       " 'Skoda',\n",
       " 'Tata',\n",
       " 'Toyota',\n",
       " 'Volkswagen',\n",
       " 'Volvo'}"
      ]
     },
     "execution_count": 9,
     "metadata": {},
     "output_type": "execute_result"
    }
   ],
   "source": [
    "import numpy as np\n",
    "import matplotlib\n",
    "from matplotlib import pyplot as plt\n",
    "from matplotlib import style\n",
    "style.use('ggplot')\n",
    "import csv \n",
    "from statistics import mean \n",
    "import glob2 \n",
    "from sklearn.cluster import KMeans\n",
    "manufacturers = [] \n",
    "new_list = []\n",
    "with open('car_list.csv', 'rt') as f:\n",
    "    reader = csv.reader(f)\n",
    "    for row in reader:\n",
    "        manufacturers.append(row[0])\n",
    "manufacturers  = manufacturers[1:]\n",
    "manufacturers_len = len(set(manufacturers))\n",
    "print(manufacturers_len)\n",
    "set_manunfacturers = set(manufacturers)\n",
    "set_manunfacturers\n"
   ]
  },
  {
   "cell_type": "code",
   "execution_count": 10,
   "metadata": {
    "collapsed": false
   },
   "outputs": [
    {
     "name": "stdout",
     "output_type": "stream",
     "text": [
      "/home/saksham/Desktop/majorproject/clustermean/*.csv\n"
     ]
    },
    {
     "data": {
      "text/plain": [
       "23"
      ]
     },
     "execution_count": 10,
     "metadata": {},
     "output_type": "execute_result"
    }
   ],
   "source": [
    "cars  = []\n",
    "with open('car_list.csv', 'rt') as f:\n",
    "    reader = csv.reader(f)\n",
    "    for row in reader:\n",
    "        cars.append(row[1])\n",
    "cars = cars[1:]\n",
    "import re\n",
    "count = 0\n",
    "new_list = []\n",
    "\n",
    "for m in set_manunfacturers:\n",
    "    for car in cars:\n",
    "        if str(m) in str(car):\n",
    "            count = count+1\n",
    "            small_list = []\n",
    "            new_list.append((re.sub(str(m),\"\",str(car),count=1)).lower())\n",
    "car_list = []\n",
    "\n",
    "for list in new_list:\n",
    "    car_list.append((' '.join(list.split(' ')[1:-1])).capitalize())\n",
    "path = '/home/saksham/Desktop/majorproject/clustermean/*.csv'       \n",
    "print(path)\n",
    "outfile = open('finalfile1.csv', 'w')\n",
    "writer = csv.writer(outfile)\n",
    "writer.writerow(['MANUFACTURERE', 'CAR', 'a', 'b'])"
   ]
  },
  {
   "cell_type": "code",
   "execution_count": null,
   "metadata": {
    "collapsed": false
   },
   "outputs": [
    {
     "name": "stdout",
     "output_type": "stream",
     "text": [
      "/home/saksham/Desktop/majorproject/clustermean/BMW.csv\n",
      "BMW.csv\n",
      "running\n",
      "best fit line:\n",
      "y = 3179373.43 +  -244625.68x\n",
      "for X1\n",
      "3179373.42857 -244625.678571\n",
      "before plot \n",
      "[ 3.  1.  5.  4.  6.  2.  7.] [ 2250000.  3606240.  1606759.  1936375.  1407721.  2400000.  2199000.]\n",
      "BMW.csv\n",
      "running\n",
      "best fit line:\n",
      "y = 5620004.67 +  -578572.43x\n",
      "for X3\n",
      "5620004.66667 -578572.428571\n",
      "before plot \n",
      "[ 2.  5.  1.  3.  6.  4.] [ 4400000.  2762500.  5457507.  3500000.  2500000.  2950000.]\n",
      "BMW.csv\n",
      "running\n",
      "best fit line:\n",
      "y = 8164186.05 +  -853953.49x\n",
      "for X5\n",
      "8164186.04651 -853953.488372\n",
      "before plot \n",
      "[ 3.  6.  7.  2.  5.] [ 5630000.  3400000.  1950000.  6400000.  3800000.]\n",
      "BMW.csv\n",
      "running\n",
      "best fit line:\n",
      "y = 8486200.80 +  -691193.06x\n",
      "for Z4\n",
      "8486200.8 -691193.057143\n",
      "before plot \n",
      "[ 7.  3.  6.  5.] [ 3779749.  6600000.  4450000.  4600000.]\n",
      "/home/saksham/Desktop/majorproject/clustermean/Renault.csv\n",
      "Renault.csv\n",
      "running\n",
      "best fit line:\n",
      "y = 359079.00 +  13377.00x\n",
      "for Kwid\n",
      "359079.0 13377.0\n",
      "before plot \n",
      "[ 2.  1.] [ 385833.  372456.]\n",
      "Renault.csv\n",
      "running\n",
      "best fit line:\n",
      "y = 809524.29 +  -86309.71x\n",
      "for Pulse\n",
      "809524.285714 -86309.7142857\n",
      "before plot \n",
      "[ 4.  5.  2.] [ 500000.  354166.  625000.]\n",
      "Renault.csv\n",
      "running\n",
      "best fit line:\n",
      "y = 627799.70 +  -2007.10x\n",
      "for Scala\n",
      "627799.7 -2007.1\n",
      "before plot \n",
      "[ 6.  4.  5.  3.] [ 650000.  587571.  582500.  655000.]\n"
     ]
    }
   ],
   "source": [
    "for file in glob2.glob(path):\n",
    "    print(file)\n",
    "    for car in car_list:\n",
    "        \n",
    "        with open(file, 'rt') as f:\n",
    "            x = []\n",
    "            y = []\n",
    "            reader = csv.reader(f)\n",
    "            for row in reader:\n",
    "                if row[2] == car:\n",
    "                    c = car\n",
    "                    x.append(int(int(row[1]) - 2017))\n",
    "                    y.append(int(row[3]))\n",
    "            \n",
    "            if len(x)>0:\n",
    "                man = str(file).split('/')[-1]\n",
    "                print(man)\n",
    "                man1 = man.split('.')[0]\n",
    "                print('running')\n",
    "                nparray = np.empty(shape=[0, 2])\n",
    "                xs = np.empty(shape=[0,1], dtype=np.float64)\n",
    "                ys = np.empty(shape=[0,1], dtype=np.float64)\n",
    "                no_of_clusters = len(set(x))\n",
    "                for (a, b) in zip(x,y):\n",
    "                    nparray = np.append(nparray, [[a,b]], axis=0)\n",
    "                \n",
    "                kmeans = KMeans(n_clusters=no_of_clusters)\n",
    "                kmeans.fit(nparray)\n",
    "                centroids = kmeans.cluster_centers_\n",
    "                labels = kmeans.labels_\n",
    "                if no_of_clusters == 8:\n",
    "                    colors = [\"g.\", \"r.\",\"c.\",\"b.\",\"y.\", \"w.\", \"k.\", \"m.\"]\n",
    "                elif no_of_clusters == 7:\n",
    "                    colors = [\"g.\", \"r.\",\"c.\",\"b.\",\"y.\", \"w.\", \"k.\"]\n",
    "                elif  no_of_clusters == 6:\n",
    "                    colors = [\"g.\", \"r.\",\"c.\",\"b.\",\"y.\", \"w.\"]\n",
    "                elif no_of_clusters == 5:\n",
    "                    colors = [\"g.\", \"r.\",\"c.\",\"b.\",\"y.\"]\n",
    "                elif no_of_clusters == 4:\n",
    "                    colors = [\"g.\", \"r.\",\"c.\",\"b.\"]\n",
    "                elif no_of_clusters == 3:\n",
    "                    colors = [\"g.\", \"r.\",\"c.\"]\n",
    "                elif no_of_clusters == 2:\n",
    "                    colors = [\"g.\", \"r.\"]\n",
    "                elif no_of_clusters == 1:\n",
    "                    colors = [\"g.\"]\n",
    "                for i in range(len(nparray)):\n",
    "                    plt.plot(nparray[i][0], nparray[i][1], colors[labels[i]], markersize=10)\n",
    "                plt.scatter(centroids[:, 0], centroids[:, 1], marker=\"x\", s=150, linewidths=5, zorder=10)\n",
    "                plt.xlabel(\"Year\")\n",
    "                plt.ylabel(\"Price\")\n",
    "                fig1 = plt.gcf()\n",
    "                plt.draw()\n",
    "                fig1.savefig('clusteredimage1/' + str(car) + '.png')\n",
    "                plt.close()\n",
    "                ym = centroids[:,1]\n",
    "                xm = centroids[:,0]\n",
    "                for i in xm:\n",
    "                    xs = np.append(xs, [[i]])\n",
    "\n",
    "                for j in ym:\n",
    "                    ys = np.append(ys, [[j]]) \n",
    "                # solve for a and b\n",
    "                def best_fit(X, Y):\n",
    "\n",
    "                    xbar = sum(X)/len(X)\n",
    "                    ybar = sum(Y)/len(Y)\n",
    "                    n = len(X) # or len(Y)\n",
    "\n",
    "                    numer = sum(xi*yi for xi,yi in zip(X, Y)) - n * xbar * ybar\n",
    "                    denum = sum(xi**2 for xi in X) - n * xbar**2\n",
    "\n",
    "                    b = numer / denum\n",
    "                    a = ybar - b * xbar\n",
    "\n",
    "                    print('best fit line:\\ny = {:.2f} +  {:.2f}x'.format(a, b))\n",
    "\n",
    "                    return a, b\n",
    "\n",
    "                # solution\n",
    "                a, b = best_fit(xs, ys)\n",
    "                print('for ' + str(car))\n",
    "                \n",
    "                print(a, b)\n",
    "                print('before plot ')\n",
    "                print(xs, ys)\n",
    "                plt.scatter(xs, ys)\n",
    "                yfit = [a + b * xi for xi in xs]\n",
    "                plt.plot(xs, yfit)\n",
    "                plt.xlabel(\"Year\")\n",
    "                plt.ylabel(\"Price\")\n",
    "                plt.grid()\n",
    "                fig1 = plt.gcf()\n",
    "                plt.draw()\n",
    "                fig1.savefig('bestfitimage1/' + str(car) + '.png')\n",
    "                plt.close() \n",
    "                \n",
    "#                 plt.grid()\n",
    "#                 fig1 = plt.gcf()\n",
    "#                 plt.draw()\n",
    "                \n",
    "#                 fig1.savefig('bestfitimage/' + str(car) + '.png')\n",
    "                outfile = open('finalfile1.csv', 'a')\n",
    "                writer = csv.writer(outfile)\n",
    "                writer.writerow([man1,car,a,b])"
   ]
  },
  {
   "cell_type": "code",
   "execution_count": null,
   "metadata": {
    "collapsed": true
   },
   "outputs": [],
   "source": []
  },
  {
   "cell_type": "code",
   "execution_count": null,
   "metadata": {
    "collapsed": true
   },
   "outputs": [],
   "source": []
  }
 ],
 "metadata": {
  "kernelspec": {
   "display_name": "Python 3",
   "language": "python",
   "name": "python3"
  },
  "language_info": {
   "codemirror_mode": {
    "name": "ipython",
    "version": 3
   },
   "file_extension": ".py",
   "mimetype": "text/x-python",
   "name": "python",
   "nbconvert_exporter": "python",
   "pygments_lexer": "ipython3",
   "version": "3.5.2+"
  }
 },
 "nbformat": 4,
 "nbformat_minor": 2
}
