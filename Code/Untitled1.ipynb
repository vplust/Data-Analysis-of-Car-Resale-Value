{
 "cells": [
  {
   "cell_type": "code",
   "execution_count": null,
   "metadata": {
    "collapsed": true,
    "deletable": true,
    "editable": true
   },
   "outputs": [],
   "source": [
    "import numpy as np\n",
    "import matplotlib\n",
    "from matplotlib import pyplot as plt\n",
    "from matplotlib import style\n",
    "style.use('ggplot')\n",
    "import csv \n",
    "from statistics import mean \n",
    "import glob2 \n",
    "from sklearn.cluster import KMeans"
   ]
  },
  {
   "cell_type": "code",
   "execution_count": null,
   "metadata": {
    "collapsed": false,
    "deletable": true,
    "editable": true
   },
   "outputs": [],
   "source": [
    "manufacturers = [] \n",
    "new_list = []\n",
    "with open('car_list.csv', 'rt') as f:\n",
    "    reader = csv.reader(f)\n",
    "    for row in reader:\n",
    "        manufacturers.append(row[0])\n",
    "manufacturers  = manufacturers[1:]\n",
    "manufacturers_len = len(set(manufacturers))\n",
    "print(manufacturers_len)\n",
    "set_manunfacturers = set(manufacturers)\n",
    "set_manunfacturers"
   ]
  },
  {
   "cell_type": "code",
   "execution_count": null,
   "metadata": {
    "collapsed": false,
    "deletable": true,
    "editable": true
   },
   "outputs": [],
   "source": [
    "cars  = []\n",
    "with open('car_list.csv', 'rt') as f:\n",
    "    reader = csv.reader(f)\n",
    "    for row in reader:\n",
    "        cars.append(row[1])\n",
    "cars = cars[1:]\n",
    "import re\n",
    "count = 0\n",
    "new_list = []\n",
    "\n",
    "for m in set_manunfacturers:\n",
    "    for car in cars:\n",
    "        if str(m) in str(car):\n",
    "            count = count+1\n",
    "            print(re.sub(str(m),\"\",str(car),count=1))\n",
    "            small_list = []\n",
    "            new_list.append((re.sub(str(m),\"\",str(car),count=1)).lower())\n",
    "            "
   ]
  },
  {
   "cell_type": "code",
   "execution_count": null,
   "metadata": {
    "collapsed": false,
    "deletable": true,
    "editable": true
   },
   "outputs": [],
   "source": [
    "car_list = []\n",
    "for list in new_list:\n",
    "    car_list.append((' '.join(list.split(' ')[1:-1])).capitalize())\n"
   ]
  },
  {
   "cell_type": "code",
   "execution_count": null,
   "metadata": {
    "collapsed": false,
    "deletable": true,
    "editable": true
   },
   "outputs": [],
   "source": [
    "car_list"
   ]
  },
  {
   "cell_type": "code",
   "execution_count": null,
   "metadata": {
    "collapsed": false,
    "deletable": true,
    "editable": true
   },
   "outputs": [],
   "source": [
    "\n",
    "\n",
    "path = '/home/saksham/Desktop/majorproject/out1/*.csv'\n",
    "\n",
    "\n"
   ]
  },
  {
   "cell_type": "code",
   "execution_count": null,
   "metadata": {
    "collapsed": false,
    "deletable": true,
    "editable": true
   },
   "outputs": [],
   "source": [
    "for file in glob2.glob(path):\n",
    "    print(file)\n",
    "    for car in car_list:\n",
    "        \n",
    "        with open(file, 'rt') as f:\n",
    "            x = []\n",
    "            y = []\n",
    "            reader = csv.reader(f)\n",
    "            for row in reader:\n",
    "                if row[1] == car:\n",
    "                    \n",
    "                    x.append(int(2017 - int(row[3])))\n",
    "                    y.append(int(row[2]))\n",
    "            \n",
    "            if len(x)>0:\n",
    "                print('running')\n",
    "                nparray = np.empty(shape=[0, 2])\n",
    "                xs = np.empty(shape=[0,1], dtype=np.float64)\n",
    "                ys = np.empty(shape=[0,1], dtype=np.float64)\n",
    "                no_of_clusters = len(set(x))\n",
    "                for (a, b) in zip(x,y):\n",
    "                    nparray = np.append(nparray, [[a,b]], axis=0)\n",
    "                \n",
    "                kmeans = KMeans(n_clusters=no_of_clusters)\n",
    "                kmeans.fit(nparray)\n",
    "                centroids = kmeans.cluster_centers_\n",
    "                labels = kmeans.labels_\n",
    "                colors = [\"g.\", \"r.\",\"c.\",\"b.\",\"y.\", \"w.\", \"k.\"]\n",
    "                for i in range(len(nparray)):\n",
    "                    plt.plot(nparray[i][0], nparray[i][1], colors[labels[i]], markersize=10)\n",
    "                plt.scatter(centroids[:, 0], centroids[:, 1], marker=\"x\", s=150, linewidths=5, zorder=10)\n",
    "                plt.xlabel(\"Year\")\n",
    "                plt.ylabel(\"Price\")\n",
    "                fig1 = plt.gcf()\n",
    "                plt.draw()\n",
    "                fig1.savefig('clusteredimage/' + str(car) + '.png')\n",
    "\n",
    "        "
   ]
  },
  {
   "cell_type": "code",
   "execution_count": null,
   "metadata": {
    "collapsed": true,
    "deletable": true,
    "editable": true
   },
   "outputs": [],
   "source": []
  },
  {
   "cell_type": "code",
   "execution_count": null,
   "metadata": {
    "collapsed": true,
    "deletable": true,
    "editable": true
   },
   "outputs": [],
   "source": []
  }
 ],
 "metadata": {
  "kernelspec": {
   "display_name": "Python 3",
   "language": "python",
   "name": "python3"
  },
  "language_info": {
   "codemirror_mode": {
    "name": "ipython",
    "version": 3
   },
   "file_extension": ".py",
   "mimetype": "text/x-python",
   "name": "python",
   "nbconvert_exporter": "python",
   "pygments_lexer": "ipython3",
   "version": "3.5.2+"
  }
 },
 "nbformat": 4,
 "nbformat_minor": 2
}
