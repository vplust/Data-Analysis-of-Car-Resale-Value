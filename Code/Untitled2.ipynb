{
 "cells": [
  {
   "cell_type": "code",
   "execution_count": 58,
   "metadata": {
    "collapsed": true
   },
   "outputs": [],
   "source": [
    "import csv \n",
    "manufacturers = []\n",
    "cars = []\n",
    "car_list = []"
   ]
  },
  {
   "cell_type": "code",
   "execution_count": 59,
   "metadata": {
    "collapsed": false
   },
   "outputs": [],
   "source": [
    "with open('olx_cleaned_data.csv', 'rt') as f:\n",
    "        reader = csv.reader(f)\n",
    "        for row in reader:\n",
    "            manufacturers.append(row[2])\n",
    "            cars.append(row[3])"
   ]
  },
  {
   "cell_type": "code",
   "execution_count": 60,
   "metadata": {
    "collapsed": false
   },
   "outputs": [],
   "source": [
    "len(set(manufacturers))\n",
    "set_manunfacturers = set(manufacturers)"
   ]
  },
  {
   "cell_type": "code",
   "execution_count": 61,
   "metadata": {
    "collapsed": false
   },
   "outputs": [
    {
     "data": {
      "text/plain": [
       "102"
      ]
     },
     "execution_count": 61,
     "metadata": {},
     "output_type": "execute_result"
    }
   ],
   "source": [
    "len(set(cars))"
   ]
  },
  {
   "cell_type": "code",
   "execution_count": 62,
   "metadata": {
    "collapsed": false
   },
   "outputs": [
    {
     "data": {
      "text/plain": [
       "{'1 Series',\n",
       " '3 Series',\n",
       " '5 Series',\n",
       " '6 Series',\n",
       " '7 Series',\n",
       " 'A3',\n",
       " 'A4',\n",
       " 'A6',\n",
       " 'A8 L',\n",
       " 'Accord',\n",
       " 'Alto 800',\n",
       " 'Amaze',\n",
       " 'Aria',\n",
       " 'Baleno',\n",
       " 'Beat',\n",
       " 'Beetle',\n",
       " 'Bolero',\n",
       " 'Brio',\n",
       " 'Camry',\n",
       " 'Celerio',\n",
       " 'Ciaz',\n",
       " 'City',\n",
       " 'Cls',\n",
       " 'Corolla Altis',\n",
       " 'Cross Polo',\n",
       " 'Cruze',\n",
       " 'Duster',\n",
       " 'Ecosport',\n",
       " 'Eeco',\n",
       " 'Elantra',\n",
       " 'Elite I20',\n",
       " 'Endeavour',\n",
       " 'Enjoy',\n",
       " 'Eon',\n",
       " 'Ertiga',\n",
       " 'Etios Liva',\n",
       " 'Figo',\n",
       " 'Fluence',\n",
       " 'Fortuner',\n",
       " 'Grand I10',\n",
       " 'Gypsy',\n",
       " 'I10',\n",
       " 'Indica Ev2',\n",
       " 'Indica V2',\n",
       " 'Indigo Ecs',\n",
       " 'Jazz',\n",
       " 'Jetta',\n",
       " 'Koleos',\n",
       " 'Kwid',\n",
       " 'Land Cruiser Prado',\n",
       " 'Linea',\n",
       " 'Lodgy',\n",
       " 'Micra',\n",
       " 'Micra Active',\n",
       " 'Mobilio',\n",
       " 'Nano',\n",
       " 'Octavia',\n",
       " 'Omni',\n",
       " 'Pajero Sport',\n",
       " 'Polo',\n",
       " 'Prius',\n",
       " 'Pulse',\n",
       " 'Punto Evo',\n",
       " 'Q3',\n",
       " 'Q5',\n",
       " 'Q7',\n",
       " 'R8',\n",
       " 'Rapid',\n",
       " 'Safari',\n",
       " 'Safari Storme',\n",
       " 'Sail',\n",
       " 'Santa Fe',\n",
       " 'Scala',\n",
       " 'Scorpio',\n",
       " 'Spark',\n",
       " 'Sumo Gold',\n",
       " 'Sunny',\n",
       " 'Superb',\n",
       " 'Swift',\n",
       " 'Swift Dzire',\n",
       " 'Tavera',\n",
       " 'Terrano',\n",
       " 'Thar',\n",
       " 'Tt',\n",
       " 'Vento',\n",
       " 'Venture',\n",
       " 'Verito',\n",
       " 'Verito Vibe Cs',\n",
       " 'Verna',\n",
       " 'Vitara Brezza',\n",
       " 'Wagon R 1.0',\n",
       " 'X1',\n",
       " 'X3',\n",
       " 'X5',\n",
       " 'X6',\n",
       " 'Xcent',\n",
       " 'Xenon Xt',\n",
       " 'Xuv500',\n",
       " 'Xylo',\n",
       " 'Yeti',\n",
       " 'Z4',\n",
       " 'Zest'}"
      ]
     },
     "execution_count": 62,
     "metadata": {},
     "output_type": "execute_result"
    }
   ],
   "source": [
    "set(cars)"
   ]
  },
  {
   "cell_type": "code",
   "execution_count": 63,
   "metadata": {
    "collapsed": false
   },
   "outputs": [],
   "source": [
    "with open('car_list.csv', 'rt') as f:\n",
    "   ...:     reader = csv.reader(f)\n",
    "   ...:     for row in reader:\n",
    "                car_list.append(row[1])"
   ]
  },
  {
   "cell_type": "code",
   "execution_count": 64,
   "metadata": {
    "collapsed": false
   },
   "outputs": [
    {
     "data": {
      "text/plain": [
       "['CAR NAME',\n",
       " 'Audi A3 ',\n",
       " 'Audi Q3 ',\n",
       " 'Audi A4 ',\n",
       " 'Audi A3 Cabriolet ',\n",
       " 'Audi Q5 ',\n",
       " 'Audi A6 ',\n",
       " 'Audi TT ',\n",
       " 'Audi S5 Sportback ',\n",
       " 'Audi Q7 ',\n",
       " 'Audi A8 L ',\n",
       " 'Audi RS6 ',\n",
       " 'Audi RS7 Sportback ',\n",
       " 'Audi R8 ',\n",
       " 'BMW X1 ',\n",
       " 'BMW 1 Series ',\n",
       " 'BMW 3 Series ',\n",
       " 'BMW 3 Series GT ',\n",
       " 'BMW X3 ',\n",
       " 'BMW 5 Series ',\n",
       " 'BMW X5 ',\n",
       " 'BMW Z4 ',\n",
       " 'BMW 7 Series ',\n",
       " 'BMW 6 Series ',\n",
       " 'BMW X6 ',\n",
       " 'BMW M4 ',\n",
       " 'BMW i8 ',\n",
       " 'Chevrolet Spark ',\n",
       " 'Chevrolet Beat ',\n",
       " 'Chevrolet Sail Hatchback ',\n",
       " 'Chevrolet Sail ',\n",
       " 'Chevrolet Enjoy ',\n",
       " 'Chevrolet Tavera ',\n",
       " 'Chevrolet Cruze ',\n",
       " 'Chevrolet Trailblazer ',\n",
       " 'Datsun Redi-GO ',\n",
       " 'Datsun GO ',\n",
       " 'Datsun GO Plus ',\n",
       " 'Fiat Punto Pure ',\n",
       " 'Fiat Punto Evo ',\n",
       " 'Fiat Linea Classic ',\n",
       " 'Fiat Urban Cross ',\n",
       " 'Fiat Avventura ',\n",
       " 'Fiat Linea ',\n",
       " 'Fiat Abarth Punto ',\n",
       " 'Fiat Abarth 595 ',\n",
       " 'Force Motors Gurkha ',\n",
       " 'Force Motors Force One ',\n",
       " 'Ford Figo ',\n",
       " 'Ford Aspire ',\n",
       " 'Ford EcoSport ',\n",
       " 'Ford Endeavour ',\n",
       " 'Ford Mustang ',\n",
       " 'Honda Brio ',\n",
       " 'Honda Amaze ',\n",
       " 'Honda Jazz ',\n",
       " 'Honda Mobilio ',\n",
       " 'Honda City ',\n",
       " 'Honda BR-V ',\n",
       " 'Honda CR-V ',\n",
       " 'Honda Accord ',\n",
       " 'Hyundai Eon ',\n",
       " 'Hyundai i10 ',\n",
       " 'Hyundai Grand i10 ',\n",
       " 'Hyundai Xcent ',\n",
       " 'Hyundai Elite i20 ',\n",
       " 'Hyundai i20 Active ',\n",
       " 'Hyundai Verna ',\n",
       " 'Hyundai Creta ',\n",
       " 'Hyundai Elantra ',\n",
       " 'Hyundai Tucson ',\n",
       " 'Hyundai Santa Fe ',\n",
       " 'Jaguar XE ',\n",
       " 'Jaguar XF ',\n",
       " 'Jaguar F-Pace ',\n",
       " 'Jaguar XJ L ',\n",
       " 'Jaguar F-Type ',\n",
       " 'Land Rover Discovery Sport ',\n",
       " 'Land Rover Range Rover Evoque ',\n",
       " 'Land Rover Discovery ',\n",
       " 'Land Rover Range Rover Sport ',\n",
       " 'Land Rover Range Rover ',\n",
       " 'Mahindra KUV100 ',\n",
       " 'Mahindra Thar ',\n",
       " 'Mahindra Bolero ',\n",
       " 'Mahindra Verito Vibe CS ',\n",
       " 'Mahindra e2o Plus ',\n",
       " 'Mahindra Verito ',\n",
       " 'Mahindra TUV300 ',\n",
       " 'Mahindra NuvoSport ',\n",
       " 'Mahindra Xylo ',\n",
       " 'Mahindra Scorpio Getaway ',\n",
       " 'Mahindra Scorpio ',\n",
       " 'Mahindra XUV500 ',\n",
       " 'Maruti Suzuki Alto 800 ',\n",
       " 'Maruti Suzuki Omni ',\n",
       " 'Maruti Suzuki Alto K10 ',\n",
       " 'Maruti Suzuki Eeco ',\n",
       " 'Maruti Suzuki Celerio ',\n",
       " 'Maruti Suzuki Wagon R 1.0 ',\n",
       " 'Maruti Suzuki Ignis ',\n",
       " 'Maruti Suzuki Swift ',\n",
       " 'Maruti Suzuki Baleno ',\n",
       " 'Maruti Suzuki Swift Dzire ',\n",
       " 'Maruti Suzuki Gypsy ',\n",
       " 'Maruti Suzuki Ertiga ',\n",
       " 'Maruti Suzuki Vitara Brezza ',\n",
       " 'Maruti Suzuki Ciaz ',\n",
       " 'Maruti Suzuki S-Cross ',\n",
       " 'Mercedes-Benz A-Class ',\n",
       " 'Mercedes-Benz B-Class ',\n",
       " 'Mercedes-Benz CLA ',\n",
       " 'Mercedes-Benz GLA ',\n",
       " 'Mercedes-Benz C-Class ',\n",
       " 'Mercedes-Benz GLC ',\n",
       " 'Mercedes-Benz E-Class ',\n",
       " 'Mercedes-Benz C-Class Cabriolet ',\n",
       " 'Mercedes-Benz GLE ',\n",
       " 'Mercedes-Benz CLS ',\n",
       " 'Mercedes-Benz SLC ',\n",
       " 'Mercedes-Benz E-Class Cabriolet ',\n",
       " 'Mercedes-Benz GLS ',\n",
       " 'Mercedes-Benz GLE Coupe ',\n",
       " 'Mercedes-Benz S-Class ',\n",
       " 'Mercedes-Benz S-Coupe ',\n",
       " 'Mercedes-Benz G-Class ',\n",
       " 'Mercedes-Benz S-Class Cabriolet ',\n",
       " 'Mercedes-Benz AMG GT ',\n",
       " 'Mercedes-Benz M-Class ',\n",
       " 'Mitsubishi Pajero Sport ',\n",
       " 'Mitsubishi Montero ',\n",
       " 'Nissan Micra Active ',\n",
       " 'Nissan Micra ',\n",
       " 'Nissan Sunny ',\n",
       " 'Nissan Terrano ',\n",
       " 'Nissan GT-R ',\n",
       " 'Renault Kwid ',\n",
       " 'Renault Pulse ',\n",
       " 'Renault Scala ',\n",
       " 'Renault Lodgy ',\n",
       " 'Renault Duster ',\n",
       " 'Renault Fluence ',\n",
       " 'Renault Koleos ',\n",
       " 'Skoda Rapid ',\n",
       " 'Skoda Octavia ',\n",
       " 'Skoda Yeti ',\n",
       " 'Skoda Superb ',\n",
       " 'Tata Nano GenX ',\n",
       " 'Tata Nano ',\n",
       " 'Tata Tiago ',\n",
       " 'Tata Bolt ',\n",
       " 'Tata Indica V2 ',\n",
       " 'Tata Venture ',\n",
       " 'Tata Indica eV2 ',\n",
       " 'Tata Zest ',\n",
       " 'Tata Indigo eCS ',\n",
       " 'Tata Sumo Gold ',\n",
       " 'Tata Safari ',\n",
       " 'Tata Xenon XT ',\n",
       " 'Tata Safari Storme ',\n",
       " 'Tata Hexa ',\n",
       " 'Tata Aria ',\n",
       " 'Toyota Etios Liva ',\n",
       " 'Toyota Etios Cross ',\n",
       " 'Toyota Platinum Etios ',\n",
       " 'Toyota Corolla Altis ',\n",
       " 'Toyota Innova Crysta ',\n",
       " 'Toyota Fortuner ',\n",
       " 'Toyota Camry ',\n",
       " 'Toyota Prius ',\n",
       " 'Toyota Land Cruiser Prado ',\n",
       " 'Toyota Land Cruiser ',\n",
       " 'Volkswagen Ameo ',\n",
       " 'Volkswagen Polo ',\n",
       " 'Volkswagen Cross Polo ',\n",
       " 'Volkswagen Vento ',\n",
       " 'Volkswagen Jetta ',\n",
       " 'Volkswagen GTI ',\n",
       " 'Volkswagen Beetle ',\n",
       " 'Volvo V40 ',\n",
       " 'Volvo V40 Cross Country ',\n",
       " 'Volvo S60 ',\n",
       " 'Volvo S80 ',\n",
       " 'Volvo XC60 ',\n",
       " 'Volvo S90 ',\n",
       " 'Volvo XC90 ']"
      ]
     },
     "execution_count": 64,
     "metadata": {},
     "output_type": "execute_result"
    }
   ],
   "source": [
    "car_list\n"
   ]
  },
  {
   "cell_type": "code",
   "execution_count": 65,
   "metadata": {
    "collapsed": false
   },
   "outputs": [],
   "source": [
    "import re \n",
    "new_list = []\n",
    "for m in set_manunfacturers:\n",
    "    for car in car_list:\n",
    "        if str(m) in str(car):\n",
    "            new_list.append((re.sub(str(m),\"\",str(car),count=1)).lower())\n",
    "car_list1 = []\n",
    "\n",
    "\n",
    "for list in new_list:\n",
    "    car_list1.append((' '.join(list.split(' ')[1:-1])).capitalize())"
   ]
  },
  {
   "cell_type": "code",
   "execution_count": 66,
   "metadata": {
    "collapsed": false
   },
   "outputs": [
    {
     "name": "stdout",
     "output_type": "stream",
     "text": [
      "186\n",
      "163\n"
     ]
    }
   ],
   "source": [
    "print(len(set(car_list)))\n",
    "print(len(set(car_list1)))\n"
   ]
  },
  {
   "cell_type": "code",
   "execution_count": 69,
   "metadata": {
    "collapsed": false
   },
   "outputs": [
    {
     "data": {
      "text/plain": [
       "186"
      ]
     },
     "execution_count": 69,
     "metadata": {},
     "output_type": "execute_result"
    }
   ],
   "source": [
    "(set(car_list) - set(car_list1))\n"
   ]
  },
  {
   "cell_type": "code",
   "execution_count": null,
   "metadata": {
    "collapsed": true
   },
   "outputs": [],
   "source": []
  },
  {
   "cell_type": "code",
   "execution_count": null,
   "metadata": {
    "collapsed": true
   },
   "outputs": [],
   "source": []
  }
 ],
 "metadata": {
  "kernelspec": {
   "display_name": "Python 3",
   "language": "python",
   "name": "python3"
  },
  "language_info": {
   "codemirror_mode": {
    "name": "ipython",
    "version": 3
   },
   "file_extension": ".py",
   "mimetype": "text/x-python",
   "name": "python",
   "nbconvert_exporter": "python",
   "pygments_lexer": "ipython3",
   "version": "3.5.2+"
  }
 },
 "nbformat": 4,
 "nbformat_minor": 2
}
